{
 "cells": [
  {
   "cell_type": "code",
   "execution_count": 1,
   "id": "fe9d6005",
   "metadata": {},
   "outputs": [],
   "source": [
    "import pandas as pd"
   ]
  },
  {
   "cell_type": "code",
   "execution_count": 8,
   "id": "833cc085",
   "metadata": {},
   "outputs": [],
   "source": [
    "Df_Poll = pd.read_csv('Resources/election_data.csv')"
   ]
  },
  {
   "cell_type": "code",
   "execution_count": 6,
   "id": "2936ffc5",
   "metadata": {},
   "outputs": [],
   "source": [
    "# Counted total number of votes\n",
    "TotalVotes = Df_Poll['Ballot ID'].count()"
   ]
  },
  {
   "cell_type": "code",
   "execution_count": 7,
   "id": "4aceb116",
   "metadata": {},
   "outputs": [
    {
     "data": {
      "text/plain": [
       "369711"
      ]
     },
     "execution_count": 7,
     "metadata": {},
     "output_type": "execute_result"
    }
   ],
   "source": [
    "TotalVotes"
   ]
  },
  {
   "cell_type": "code",
   "execution_count": 85,
   "id": "0c757c89",
   "metadata": {},
   "outputs": [],
   "source": [
    "CL = Df_Poll['Candidate'].unique()"
   ]
  },
  {
   "cell_type": "code",
   "execution_count": 103,
   "id": "002c7d37",
   "metadata": {},
   "outputs": [],
   "source": [
    "pollstat = Df_Poll.groupby(['Candidate'], as_index=False).count()"
   ]
  },
  {
   "cell_type": "code",
   "execution_count": 101,
   "id": "0aa16770",
   "metadata": {},
   "outputs": [
    {
     "data": {
      "text/html": [
       "<div>\n",
       "<style scoped>\n",
       "    .dataframe tbody tr th:only-of-type {\n",
       "        vertical-align: middle;\n",
       "    }\n",
       "\n",
       "    .dataframe tbody tr th {\n",
       "        vertical-align: top;\n",
       "    }\n",
       "\n",
       "    .dataframe thead th {\n",
       "        text-align: right;\n",
       "    }\n",
       "</style>\n",
       "<table border=\"1\" class=\"dataframe\">\n",
       "  <thead>\n",
       "    <tr style=\"text-align: right;\">\n",
       "      <th></th>\n",
       "      <th>Candidate</th>\n",
       "      <th>Ballot ID</th>\n",
       "      <th>County</th>\n",
       "    </tr>\n",
       "  </thead>\n",
       "  <tbody>\n",
       "    <tr>\n",
       "      <th>0</th>\n",
       "      <td>Charles Casper Stockham</td>\n",
       "      <td>85213</td>\n",
       "      <td>85213</td>\n",
       "    </tr>\n",
       "    <tr>\n",
       "      <th>1</th>\n",
       "      <td>Diana DeGette</td>\n",
       "      <td>272892</td>\n",
       "      <td>272892</td>\n",
       "    </tr>\n",
       "    <tr>\n",
       "      <th>2</th>\n",
       "      <td>Raymon Anthony Doane</td>\n",
       "      <td>11606</td>\n",
       "      <td>11606</td>\n",
       "    </tr>\n",
       "  </tbody>\n",
       "</table>\n",
       "</div>"
      ],
      "text/plain": [
       "                 Candidate  Ballot ID  County\n",
       "0  Charles Casper Stockham      85213   85213\n",
       "1            Diana DeGette     272892  272892\n",
       "2     Raymon Anthony Doane      11606   11606"
      ]
     },
     "execution_count": 101,
     "metadata": {},
     "output_type": "execute_result"
    }
   ],
   "source": [
    "pollstat"
   ]
  },
  {
   "cell_type": "code",
   "execution_count": 104,
   "id": "f086af78",
   "metadata": {},
   "outputs": [
    {
     "data": {
      "text/html": [
       "<div>\n",
       "<style scoped>\n",
       "    .dataframe tbody tr th:only-of-type {\n",
       "        vertical-align: middle;\n",
       "    }\n",
       "\n",
       "    .dataframe tbody tr th {\n",
       "        vertical-align: top;\n",
       "    }\n",
       "\n",
       "    .dataframe thead th {\n",
       "        text-align: right;\n",
       "    }\n",
       "</style>\n",
       "<table border=\"1\" class=\"dataframe\">\n",
       "  <thead>\n",
       "    <tr style=\"text-align: right;\">\n",
       "      <th></th>\n",
       "      <th>Candidate</th>\n",
       "      <th>Ballot ID</th>\n",
       "      <th>County</th>\n",
       "      <th>percentage</th>\n",
       "    </tr>\n",
       "  </thead>\n",
       "  <tbody>\n",
       "    <tr>\n",
       "      <th>0</th>\n",
       "      <td>Charles Casper Stockham</td>\n",
       "      <td>85213</td>\n",
       "      <td>85213</td>\n",
       "      <td>23.049</td>\n",
       "    </tr>\n",
       "    <tr>\n",
       "      <th>1</th>\n",
       "      <td>Diana DeGette</td>\n",
       "      <td>272892</td>\n",
       "      <td>272892</td>\n",
       "      <td>73.812</td>\n",
       "    </tr>\n",
       "    <tr>\n",
       "      <th>2</th>\n",
       "      <td>Raymon Anthony Doane</td>\n",
       "      <td>11606</td>\n",
       "      <td>11606</td>\n",
       "      <td>3.139</td>\n",
       "    </tr>\n",
       "  </tbody>\n",
       "</table>\n",
       "</div>"
      ],
      "text/plain": [
       "                 Candidate  Ballot ID  County  percentage\n",
       "0  Charles Casper Stockham      85213   85213      23.049\n",
       "1            Diana DeGette     272892  272892      73.812\n",
       "2     Raymon Anthony Doane      11606   11606       3.139"
      ]
     },
     "execution_count": 104,
     "metadata": {},
     "output_type": "execute_result"
    }
   ],
   "source": [
    "pollstat['percentage'] = round((pollstat['Ballot ID']/TotalVotes)*100,3)\n",
    "pollstat"
   ]
  },
  {
   "cell_type": "code",
   "execution_count": 105,
   "id": "88d474a9",
   "metadata": {},
   "outputs": [],
   "source": [
    "wnningvote = pollstat['Ballot ID'].max()"
   ]
  },
  {
   "cell_type": "code",
   "execution_count": 110,
   "id": "605587c8",
   "metadata": {},
   "outputs": [
    {
     "name": "stdout",
     "output_type": "stream",
     "text": [
      "Charles Casper Stockham: 23.049% (85213)\n",
      "Diana DeGette: 73.812% (272892)\n",
      "Raymon Anthony Doane: 3.139% (11606)\n"
     ]
    }
   ],
   "source": [
    "for row in range(len(pollstat)):\n",
    "    print(pollstat.iloc[row,0] + ':',str(pollstat.iloc[row,3])+'% ('+str(pollstat.iloc[row,1])+')')"
   ]
  },
  {
   "cell_type": "code",
   "execution_count": 92,
   "id": "37d4263a",
   "metadata": {},
   "outputs": [],
   "source": [
    "winner = pollstat.loc[pollstat['Ballot ID'] == wnningvote].iloc[0,0]"
   ]
  },
  {
   "cell_type": "code",
   "execution_count": 114,
   "id": "6e00f7b6",
   "metadata": {},
   "outputs": [
    {
     "name": "stdout",
     "output_type": "stream",
     "text": [
      "Winner :  Diana DeGette\n"
     ]
    }
   ],
   "source": [
    "print('Winner : ',winner)"
   ]
  },
  {
   "cell_type": "code",
   "execution_count": null,
   "id": "525618fc",
   "metadata": {},
   "outputs": [],
   "source": []
  }
 ],
 "metadata": {
  "kernelspec": {
   "display_name": "Python 3 (ipykernel)",
   "language": "python",
   "name": "python3"
  },
  "language_info": {
   "codemirror_mode": {
    "name": "ipython",
    "version": 3
   },
   "file_extension": ".py",
   "mimetype": "text/x-python",
   "name": "python",
   "nbconvert_exporter": "python",
   "pygments_lexer": "ipython3",
   "version": "3.9.13"
  }
 },
 "nbformat": 4,
 "nbformat_minor": 5
}
