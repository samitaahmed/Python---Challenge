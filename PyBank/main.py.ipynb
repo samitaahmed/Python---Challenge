{
 "cells": [
  {
   "cell_type": "code",
   "execution_count": 1,
   "id": "70cf9c0f",
   "metadata": {},
   "outputs": [],
   "source": [
    "import pandas as pd"
   ]
  },
  {
   "cell_type": "code",
   "execution_count": 2,
   "id": "d02efef7",
   "metadata": {},
   "outputs": [],
   "source": [
    "file = \"Resources/budget_data.csv\"\n",
    "df_budget = pd.read_csv(file)"
   ]
  },
  {
   "cell_type": "code",
   "execution_count": 18,
   "id": "520d7f5f",
   "metadata": {},
   "outputs": [
    {
     "data": {
      "text/html": [
       "<div>\n",
       "<style scoped>\n",
       "    .dataframe tbody tr th:only-of-type {\n",
       "        vertical-align: middle;\n",
       "    }\n",
       "\n",
       "    .dataframe tbody tr th {\n",
       "        vertical-align: top;\n",
       "    }\n",
       "\n",
       "    .dataframe thead th {\n",
       "        text-align: right;\n",
       "    }\n",
       "</style>\n",
       "<table border=\"1\" class=\"dataframe\">\n",
       "  <thead>\n",
       "    <tr style=\"text-align: right;\">\n",
       "      <th></th>\n",
       "      <th>Date</th>\n",
       "      <th>Profit/Losses</th>\n",
       "    </tr>\n",
       "  </thead>\n",
       "  <tbody>\n",
       "    <tr>\n",
       "      <th>0</th>\n",
       "      <td>Jan-10</td>\n",
       "      <td>1088983</td>\n",
       "    </tr>\n",
       "    <tr>\n",
       "      <th>1</th>\n",
       "      <td>Feb-10</td>\n",
       "      <td>-354534</td>\n",
       "    </tr>\n",
       "    <tr>\n",
       "      <th>2</th>\n",
       "      <td>Mar-10</td>\n",
       "      <td>276622</td>\n",
       "    </tr>\n",
       "    <tr>\n",
       "      <th>3</th>\n",
       "      <td>Apr-10</td>\n",
       "      <td>-728133</td>\n",
       "    </tr>\n",
       "    <tr>\n",
       "      <th>4</th>\n",
       "      <td>May-10</td>\n",
       "      <td>852993</td>\n",
       "    </tr>\n",
       "    <tr>\n",
       "      <th>...</th>\n",
       "      <td>...</td>\n",
       "      <td>...</td>\n",
       "    </tr>\n",
       "    <tr>\n",
       "      <th>81</th>\n",
       "      <td>Oct-16</td>\n",
       "      <td>-729004</td>\n",
       "    </tr>\n",
       "    <tr>\n",
       "      <th>82</th>\n",
       "      <td>Nov-16</td>\n",
       "      <td>-112209</td>\n",
       "    </tr>\n",
       "    <tr>\n",
       "      <th>83</th>\n",
       "      <td>Dec-16</td>\n",
       "      <td>516313</td>\n",
       "    </tr>\n",
       "    <tr>\n",
       "      <th>84</th>\n",
       "      <td>Jan-17</td>\n",
       "      <td>607208</td>\n",
       "    </tr>\n",
       "    <tr>\n",
       "      <th>85</th>\n",
       "      <td>Feb-17</td>\n",
       "      <td>382539</td>\n",
       "    </tr>\n",
       "  </tbody>\n",
       "</table>\n",
       "<p>86 rows × 2 columns</p>\n",
       "</div>"
      ],
      "text/plain": [
       "      Date  Profit/Losses\n",
       "0   Jan-10        1088983\n",
       "1   Feb-10        -354534\n",
       "2   Mar-10         276622\n",
       "3   Apr-10        -728133\n",
       "4   May-10         852993\n",
       "..     ...            ...\n",
       "81  Oct-16        -729004\n",
       "82  Nov-16        -112209\n",
       "83  Dec-16         516313\n",
       "84  Jan-17         607208\n",
       "85  Feb-17         382539\n",
       "\n",
       "[86 rows x 2 columns]"
      ]
     },
     "execution_count": 18,
     "metadata": {},
     "output_type": "execute_result"
    }
   ],
   "source": [
    "# imported csv file into dataframe"
   ]
  },
  {
   "cell_type": "code",
   "execution_count": 14,
   "id": "87838339",
   "metadata": {},
   "outputs": [],
   "source": [
    "TotalMonths = df_budget['Date'].count()"
   ]
  },
  {
   "cell_type": "code",
   "execution_count": 22,
   "id": "8fef754a",
   "metadata": {},
   "outputs": [
    {
     "name": "stdout",
     "output_type": "stream",
     "text": [
      "Total Months: 86\n"
     ]
    }
   ],
   "source": [
    "# selected the date column from the dataframe and counted the number of months"
   ]
  },
  {
   "cell_type": "code",
   "execution_count": 23,
   "id": "b818b892",
   "metadata": {},
   "outputs": [],
   "source": [
    "TotalPL = df_budget['Profit/Losses'].sum()"
   ]
  },
  {
   "cell_type": "code",
   "execution_count": 30,
   "id": "26fd56ca",
   "metadata": {},
   "outputs": [
    {
     "name": "stdout",
     "output_type": "stream",
     "text": [
      "Total: $22564198\n"
     ]
    }
   ],
   "source": [
    "# selected the Profit/Losses column and calculated the total profit"
   ]
  },
  {
   "cell_type": "code",
   "execution_count": 32,
   "id": "eebea536",
   "metadata": {},
   "outputs": [],
   "source": [
    "df_budget['change']= 0"
   ]
  },
  {
   "cell_type": "code",
   "execution_count": 50,
   "id": "45d131ad",
   "metadata": {},
   "outputs": [
    {
     "data": {
      "text/plain": [
       "-354534"
      ]
     },
     "execution_count": 50,
     "metadata": {},
     "output_type": "execute_result"
    }
   ],
   "source": [
    "# created a new column and named it \"change\" to show the value of changes over the entire period"
   ]
  },
  {
   "cell_type": "code",
   "execution_count": 51,
   "id": "5a24ded4",
   "metadata": {},
   "outputs": [],
   "source": [
    "for i in range(1,TotalMonths):\n",
    "    df_budget.iloc[i,2]=df_budget.iloc[i,1]-df_budget.iloc[i-1,1]"
   ]
  },
  {
   "cell_type": "code",
   "execution_count": 59,
   "id": "eed88513",
   "metadata": {},
   "outputs": [],
   "source": [
    "AvgChange = round(df_budget['change'][1:].mean(),2)"
   ]
  },
  {
   "cell_type": "code",
   "execution_count": 60,
   "id": "9aaa72ca",
   "metadata": {},
   "outputs": [
    {
     "name": "stdout",
     "output_type": "stream",
     "text": [
      "Average Change: $-8311.11\n"
     ]
    }
   ],
   "source": [
    "# calculated average change and rounded to 2 decimal places"
   ]
  },
  {
   "cell_type": "code",
   "execution_count": 72,
   "id": "241a82dd",
   "metadata": {},
   "outputs": [],
   "source": [
    "GIncrease= df_budget['change'][1:].max()"
   ]
  },
  {
   "cell_type": "code",
   "execution_count": 107,
   "id": "7e371aa0",
   "metadata": {},
   "outputs": [],
   "source": [
    "GDate = df_budget.loc[df_budget['change']== GIncrease].iloc[0,0]"
   ]
  },
  {
   "cell_type": "code",
   "execution_count": 108,
   "id": "ad579936",
   "metadata": {},
   "outputs": [
    {
     "name": "stdout",
     "output_type": "stream",
     "text": [
      "Aug-16\n"
     ]
    }
   ],
   "source": [
    "# Calculated the greatest increase and the corresponding date\n",
    "        "
   ]
  },
  {
   "cell_type": "code",
   "execution_count": 111,
   "id": "7378c3e3",
   "metadata": {},
   "outputs": [
    {
     "name": "stdout",
     "output_type": "stream",
     "text": [
      "Greatest Increase in Profits: Aug-16 ($1862002)\n"
     ]
    }
   ],
   "source": []
  },
  {
   "cell_type": "code",
   "execution_count": 112,
   "id": "18cb4382",
   "metadata": {},
   "outputs": [],
   "source": [
    "GDecrease = df_budget['change'][1:].min()"
   ]
  },
  {
   "cell_type": "code",
   "execution_count": 113,
   "id": "6f3e2741",
   "metadata": {},
   "outputs": [
    {
     "data": {
      "text/plain": [
       "-1825558"
      ]
     },
     "execution_count": 113,
     "metadata": {},
     "output_type": "execute_result"
    }
   ],
   "source": [
    "# Calculated the greatest decrease in profit"
   ]
  },
  {
   "cell_type": "code",
   "execution_count": 119,
   "id": "9a8ea551",
   "metadata": {},
   "outputs": [],
   "source": [
    "LDate = df_budget.loc[df_budget['change']== GDecrease].iloc[0,0]"
   ]
  },
  {
   "cell_type": "code",
   "execution_count": 120,
   "id": "7b4fbf29",
   "metadata": {},
   "outputs": [
    {
     "data": {
      "text/plain": [
       "'Feb-14'"
      ]
     },
     "execution_count": 120,
     "metadata": {},
     "output_type": "execute_result"
    }
   ],
   "source": [
    "# calculated the corresponding date for the greatest decrease in profit"
   ]
  },
  {
   "cell_type": "code",
   "execution_count": 126,
   "id": "e33ce3dd",
   "metadata": {},
   "outputs": [
    {
     "name": "stdout",
     "output_type": "stream",
     "text": [
      "Financial Analysis\n",
      "\n",
      "----------------------------\n",
      "\n",
      "Total Months: 86\n",
      "\n",
      "Total: $22564198\n",
      "\n",
      "Average Change: $-8311.11\n",
      "\n",
      "Greatest Increase in Profits: Aug-16 ($1862002)\n",
      "\n",
      "Greatest Decrease in Profits: Feb-14($-1825558)\n"
     ]
    }
   ],
   "source": [
    "print ('Financial Analysis')\n",
    "print()\n",
    "print ('----------------------------')\n",
    "print()\n",
    "print('Total Months:',TotalMonths)\n",
    "print()\n",
    "print('Total: $' +str(TotalPL))\n",
    "print()\n",
    "print('Average Change: $'+ str(AvgChange))\n",
    "print()\n",
    "print('Greatest Increase in Profits: ' + str(GDate) + ' ($'+ str(GIncrease) + ')')\n",
    "print()\n",
    "print('Greatest Decrease in Profits: '+ str(LDate) + '($' + str(GDecrease)+')')"
   ]
  },
  {
   "cell_type": "code",
   "execution_count": null,
   "id": "90f85bb5",
   "metadata": {},
   "outputs": [],
   "source": []
  }
 ],
 "metadata": {
  "kernelspec": {
   "display_name": "Python 3 (ipykernel)",
   "language": "python",
   "name": "python3"
  },
  "language_info": {
   "codemirror_mode": {
    "name": "ipython",
    "version": 3
   },
   "file_extension": ".py",
   "mimetype": "text/x-python",
   "name": "python",
   "nbconvert_exporter": "python",
   "pygments_lexer": "ipython3",
   "version": "3.9.13"
  }
 },
 "nbformat": 4,
 "nbformat_minor": 5
}
